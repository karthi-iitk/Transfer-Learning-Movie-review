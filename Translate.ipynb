{
 "cells": [
  {
   "cell_type": "code",
   "execution_count": 2,
   "metadata": {},
   "outputs": [],
   "source": [
    "import numpy as np\n",
    "import pandas as pd\n",
    "import os\n",
    "import re\n",
    "import time\n"
   ]
  },
  {
   "cell_type": "code",
   "execution_count": 33,
   "metadata": {},
   "outputs": [],
   "source": [
    "dir_name = 'Train Pos Data/'\n",
    "Reviews = np.array(pd.read_csv(dir_name+'pos_reviews.csv', header=None))\n",
    "Labels = np.array(pd.read_csv(dir_name+'pos_Labels.csv', header=None))\n"
   ]
  },
  {
   "cell_type": "code",
   "execution_count": null,
   "metadata": {},
   "outputs": [],
   "source": []
  },
  {
   "cell_type": "code",
   "execution_count": 38,
   "metadata": {},
   "outputs": [],
   "source": [
    "start = 0\n",
    "end = 20\n",
    "from googletrans import Translator\n",
    "\n",
    "Translated_list = []\n",
    "\n",
    "for i in range(start, end):\n",
    "    translator = Translator()\n",
    "    translated = translator.translate( Reviews[i][0], src='en', dest='hi').text\n",
    "    tup = (Reviews[i][0], translated, Labels[i][0] )\n",
    "    Translated_list.append(tup)\n",
    "    "
   ]
  },
  {
   "cell_type": "code",
   "execution_count": 41,
   "metadata": {},
   "outputs": [],
   "source": [
    "Translated_list_pandas = pd.DataFrame(Translated_list)\n",
    "name = 'Results/' + str(start) + '_' + str(end) + '.csv'\n",
    "Translated_list_pandas.to_csv(name,  header=None, index=False)"
   ]
  },
  {
   "cell_type": "code",
   "execution_count": null,
   "metadata": {},
   "outputs": [],
   "source": [
    "start = 0\n",
    "end = 20\n",
    "\n",
    "\n",
    "import numpy as np\n",
    "import pandas as pd\n",
    "import os\n",
    "import re\n",
    "import time\n",
    "\n",
    "dir_name = 'Train Pos Data/'\n",
    "Reviews = np.array(pd.read_csv(dir_name+'pos_reviews.csv', header=None))\n",
    "Labels = np.array(pd.read_csv(dir_name+'pos_Labels.csv', header=None))\n",
    "\n",
    "from googletrans import Translator\n",
    "\n",
    "Translated_list = []\n",
    "\n",
    "for i in range(start, end):\n",
    "    translator = Translator()\n",
    "    translated = translator.translate( Reviews[i][0], src='en', dest='hi').text\n",
    "    tup = (Reviews[i][0], translated, Labels[i][0] )\n",
    "    Translated_list.append(tup)\n",
    "    \n",
    "\n",
    "Translated_list_pandas = pd.DataFrame(Translated_list)\n",
    "name = 'Results/' + str(start) + '_' + str(end) + '.csv'\n",
    "Translated_list_pandas.to_csv(name,  header=None, index=False)"
   ]
  },
  {
   "cell_type": "code",
   "execution_count": 45,
   "metadata": {},
   "outputs": [
    {
     "name": "stdout",
     "output_type": "stream",
     "text": [
      "python Translate.py  0 199  &\n",
      "python Translate.py  200 399  &\n",
      "python Translate.py  400 599  &\n",
      "python Translate.py  600 799  &\n",
      "python Translate.py  800 999  &\n",
      "python Translate.py  1000 1199  &\n",
      "python Translate.py  1200 1399  &\n",
      "python Translate.py  1400 1599  &\n",
      "python Translate.py  1600 1799  &\n",
      "python Translate.py  1800 1999  &\n",
      "python Translate.py  2000 2199  &\n",
      "python Translate.py  2200 2399  &\n",
      "python Translate.py  2400 2599  &\n",
      "python Translate.py  2600 2799  &\n",
      "python Translate.py  2800 2999  &\n",
      "python Translate.py  3000 3199  &\n",
      "python Translate.py  3200 3399  &\n",
      "python Translate.py  3400 3599  &\n",
      "python Translate.py  3600 3799  &\n",
      "python Translate.py  3800 3999  &\n",
      "python Translate.py  4000 4199  &\n",
      "python Translate.py  4200 4399  &\n",
      "python Translate.py  4400 4599  &\n",
      "python Translate.py  4600 4799  &\n",
      "python Translate.py  4800 4999  &\n",
      "\n"
     ]
    }
   ],
   "source": [
    "init = 0\n",
    "for i in range(0, 25):\n",
    "    s = init + i*200\n",
    "    e = init + (i+1)*200 -1\n",
    "    print('python Translate.py ', s, e, ' &')\n",
    "print()"
   ]
  }
 ],
 "metadata": {
  "kernelspec": {
   "display_name": "Python 3",
   "language": "python",
   "name": "python3"
  },
  "language_info": {
   "codemirror_mode": {
    "name": "ipython",
    "version": 3
   },
   "file_extension": ".py",
   "mimetype": "text/x-python",
   "name": "python",
   "nbconvert_exporter": "python",
   "pygments_lexer": "ipython3",
   "version": "3.7.0"
  }
 },
 "nbformat": 4,
 "nbformat_minor": 2
}

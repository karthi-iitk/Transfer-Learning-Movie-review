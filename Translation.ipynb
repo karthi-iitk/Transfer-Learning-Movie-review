{
 "cells": [
  {
   "cell_type": "code",
   "execution_count": 49,
   "metadata": {},
   "outputs": [],
   "source": [
    "import numpy as np\n",
    "import pandas as pd\n",
    "import os\n",
    "import re\n",
    "import time\n"
   ]
  },
  {
   "cell_type": "code",
   "execution_count": 6,
   "metadata": {},
   "outputs": [
    {
     "data": {
      "text/plain": [
       "'12390_8.txt'"
      ]
     },
     "execution_count": 6,
     "metadata": {},
     "output_type": "execute_result"
    }
   ],
   "source": [
    "dir_name = 'aclImdb/train/pos/'\n",
    "filenames = os.listdir(dir_name)\n",
    "filenames[1]"
   ]
  },
  {
   "cell_type": "code",
   "execution_count": 40,
   "metadata": {},
   "outputs": [],
   "source": [
    "Reviews = []\n",
    "Labels = []\n",
    "\n",
    "for i in range(len(filenames)):\n",
    "    file = open(dir_name + filenames[i]) \n",
    "    a = file.read()\n",
    "    file.close()\n",
    "    num = re.sub('[._]' , ' ', filenames[i] ).split(' ')\n",
    "    Reviews.append(a)\n",
    "    Labels.append(num[1])"
   ]
  },
  {
   "cell_type": "code",
   "execution_count": 41,
   "metadata": {},
   "outputs": [],
   "source": [
    "Reviews_pandas = pd.DataFrame(Reviews)\n",
    "Labels_pandas = pd.DataFrame(Labels)"
   ]
  },
  {
   "cell_type": "code",
   "execution_count": 42,
   "metadata": {},
   "outputs": [],
   "source": [
    "Reviews_pandas.to_csv('Data/pos_reviews.csv', header=None, index=False)\n",
    "Labels_pandas.to_csv('Data/pos_Labels.csv', header=None, index=False)"
   ]
  },
  {
   "cell_type": "code",
   "execution_count": 44,
   "metadata": {},
   "outputs": [],
   "source": [
    "Reviews_sample = Reviews[:100]\n"
   ]
  },
  {
   "cell_type": "code",
   "execution_count": 53,
   "metadata": {},
   "outputs": [
    {
     "name": "stdout",
     "output_type": "stream",
     "text": [
      "18.202356100082397\n"
     ]
    }
   ],
   "source": [
    "from googletrans import Translator\n",
    "\n",
    "start_time = time.time()\n",
    "\n",
    "for i in range(10):\n",
    "    translator = Translator()\n",
    "    translated = translator.translate(Reviews_sample[i], src='en', dest='hi').text\n",
    "    \n",
    "end_time  = time.time()\n",
    "time_diff = end_time - start_time\n",
    "print(time_diff)"
   ]
  },
  {
   "cell_type": "code",
   "execution_count": 52,
   "metadata": {},
   "outputs": [
    {
     "data": {
      "text/plain": [
       "1541929910.090587"
      ]
     },
     "execution_count": 52,
     "metadata": {},
     "output_type": "execute_result"
    }
   ],
   "source": [
    "Revi"
   ]
  }
 ],
 "metadata": {
  "kernelspec": {
   "display_name": "Python 3",
   "language": "python",
   "name": "python3"
  },
  "language_info": {
   "codemirror_mode": {
    "name": "ipython",
    "version": 3
   },
   "file_extension": ".py",
   "mimetype": "text/x-python",
   "name": "python",
   "nbconvert_exporter": "python",
   "pygments_lexer": "ipython3",
   "version": "3.7.0"
  }
 },
 "nbformat": 4,
 "nbformat_minor": 2
}

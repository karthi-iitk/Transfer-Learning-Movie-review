{
 "cells": [
  {
   "cell_type": "code",
   "execution_count": 22,
   "metadata": {},
   "outputs": [],
   "source": [
    "import numpy as np\n",
    "import pandas as pd\n",
    "import os\n",
    "import re"
   ]
  },
  {
   "cell_type": "code",
   "execution_count": 6,
   "metadata": {},
   "outputs": [
    {
     "data": {
      "text/plain": [
       "'12390_8.txt'"
      ]
     },
     "execution_count": 6,
     "metadata": {},
     "output_type": "execute_result"
    }
   ],
   "source": [
    "dir_name = 'aclImdb/train/pos/'\n",
    "filenames = os.listdir(dir_name)\n",
    "filenames[1]"
   ]
  },
  {
   "cell_type": "code",
   "execution_count": 40,
   "metadata": {},
   "outputs": [],
   "source": [
    "Reviews = []\n",
    "Labels = []\n",
    "\n",
    "for i in range(len(filenames)):\n",
    "    file = open(dir_name + filenames[i]) \n",
    "    a = file.read()\n",
    "    file.close()\n",
    "    num = re.sub('[._]' , ' ', filenames[i] ).split(' ')\n",
    "    Reviews.append(a)\n",
    "    Labels.append(num[1])"
   ]
  },
  {
   "cell_type": "code",
   "execution_count": 41,
   "metadata": {},
   "outputs": [],
   "source": [
    "Reviews_pandas = pd.DataFrame(Reviews)\n",
    "Labels_pandas = pd.DataFrame(Labels)"
   ]
  },
  {
   "cell_type": "code",
   "execution_count": 42,
   "metadata": {},
   "outputs": [],
   "source": [
    "Reviews_pandas.to_csv('Data/pos_reviews.csv', header=None, index=False)\n",
    "Labels_pandas.to_csv('Data/pos_Labels.csv', header=None, index=False)"
   ]
  }
 ],
 "metadata": {
  "kernelspec": {
   "display_name": "Python 3",
   "language": "python",
   "name": "python3"
  },
  "language_info": {
   "codemirror_mode": {
    "name": "ipython",
    "version": 3
   },
   "file_extension": ".py",
   "mimetype": "text/x-python",
   "name": "python",
   "nbconvert_exporter": "python",
   "pygments_lexer": "ipython3",
   "version": "3.7.0"
  }
 },
 "nbformat": 4,
 "nbformat_minor": 2
}
